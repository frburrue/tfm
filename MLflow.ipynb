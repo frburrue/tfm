{
 "cells": [
  {
   "cell_type": "code",
   "execution_count": 5,
   "metadata": {},
   "outputs": [],
   "source": [
    "import mlflow\n",
    "import os\n",
    "import shutil\n",
    "import boto3\n",
    "from datetime import datetime\n",
    "\n",
    "\n",
    "S3_CLIENT = boto3.resource('s3')\n",
    "\n",
    "mlflow.set_tracking_uri(os.getenv('MLFLOW_TRACKING_URI'))\n",
    "MLFLOW_CLIENT = mlflow.tracking.MlflowClient()\n",
    "\n",
    "REGISTERED_MODELS = [\"Hands\"]\n",
    "MODELS = {}\n",
    "\n",
    "\n",
    "def downlod_model(bucket_name, remoteDirectory_name):\n",
    "\n",
    "    bucket = S3_CLIENT.Bucket(bucket_name)\n",
    "\n",
    "    for obj in bucket.objects.filter(Prefix=remoteDirectory_name):\n",
    "        if not os.path.exists(os.path.dirname(obj.key)):\n",
    "            os.makedirs(os.path.dirname(obj.key))\n",
    "        bucket.download_file(obj.key, obj.key)\n",
    "\n",
    "\n",
    "def update_models():\n",
    "\n",
    "    update = {}\n",
    "\n",
    "    for model_name in REGISTERED_MODELS:\n",
    "        model = None\n",
    "        update[model_name] = 0\n",
    "        for mv in MLFLOW_CLIENT.search_model_versions(f\"name='{model_name}'\"):\n",
    "            mv = dict(mv)\n",
    "            if mv['current_stage'] == 'Production':\n",
    "                mv['last_updated_timestamp'] = str(datetime.fromtimestamp(int(mv['last_updated_timestamp'] / 1000)))\n",
    "                bucket = mv['source'].split('//')[1].split('/')[0]\n",
    "                folder = mv['source'].split('//')[1].split('/')[1]\n",
    "                if os.path.exists(os.path.join('./models', folder)):\n",
    "                    print(\"Load existing model...\")\n",
    "                    model = os.path.join(os.path.join('./models', folder), \"artifacts/model/data/model.h5\")\n",
    "                else:\n",
    "                    print(\"Downloading model...\")\n",
    "                    downlod_model(bucket, folder)\n",
    "                    model = os.path.join(os.path.join('./models', folder), \"artifacts/model/data/model.h5\")\n",
    "                    if os.path.exists('./models'):\n",
    "                        shutil.rmtree('./models')\n",
    "                    os.mkdir('./models')\n",
    "                    shutil.move(os.path.join(os.getcwd(), folder), './models')\n",
    "                    update[model_name] = 1\n",
    "                print(\"Using model {name} v{version} ({current_stage}) updated at {last_updated_timestamp}\".format(**mv))\n",
    "                #response = {k: v for k, v in mv.items() if v}\n",
    "                break\n",
    "        if model:\n",
    "            MODELS[model_name] = model\n",
    "\n",
    "    return update\n",
    "\n",
    "\n",
    "def get_model(model_name):\n",
    "\n",
    "    return MODELS.get(model_name, None)"
   ]
  },
  {
   "cell_type": "code",
   "execution_count": 6,
   "metadata": {},
   "outputs": [
    {
     "name": "stdout",
     "output_type": "stream",
     "text": [
      "Downloading model...\n",
      "Using model Hands v7 (Production) updated at 2020-12-16 20:43:52\n"
     ]
    },
    {
     "data": {
      "text/plain": [
       "{'Hands': 1}"
      ]
     },
     "execution_count": 6,
     "metadata": {},
     "output_type": "execute_result"
    }
   ],
   "source": [
    "update_models()"
   ]
  },
  {
   "cell_type": "code",
   "execution_count": null,
   "metadata": {},
   "outputs": [],
   "source": []
  }
 ],
 "metadata": {
  "kernelspec": {
   "display_name": "Python 3",
   "language": "python",
   "name": "python3"
  },
  "language_info": {
   "codemirror_mode": {
    "name": "ipython",
    "version": 3
   },
   "file_extension": ".py",
   "mimetype": "text/x-python",
   "name": "python",
   "nbconvert_exporter": "python",
   "pygments_lexer": "ipython3",
   "version": "3.7.8"
  }
 },
 "nbformat": 4,
 "nbformat_minor": 4
}
