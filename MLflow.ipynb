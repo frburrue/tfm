{
 "cells": [
  {
   "cell_type": "markdown",
   "metadata": {},
   "source": [
    "# Dependencias"
   ]
  },
  {
   "cell_type": "code",
   "execution_count": 26,
   "metadata": {},
   "outputs": [],
   "source": [
    "import mlflow\n",
    "import os\n",
    "import shutil\n",
    "import boto3\n",
    "from datetime import datetime\n",
    "\n",
    "\n",
    "S3_CLIENT = boto3.resource('s3')\n",
    "\n",
    "mlflow.set_tracking_uri(os.getenv('MLFLOW_TRACKING_URI'))\n",
    "MLFLOW_CLIENT = mlflow.tracking.MlflowClient()\n",
    "\n",
    "REGISTERED_MODELS = [\"Hands\"]\n",
    "MODELS = {}\n",
    "\n",
    "\n",
    "def downlod_model(bucket_name, remoteDirectory_name):\n",
    "\n",
    "    bucket = S3_CLIENT.Bucket(bucket_name)\n",
    "\n",
    "    for obj in bucket.objects.filter(Prefix=remoteDirectory_name):\n",
    "        if not os.path.exists(os.path.dirname(obj.key)):\n",
    "            os.makedirs(os.path.dirname(obj.key))\n",
    "        bucket.download_file(obj.key, obj.key)\n",
    "\n",
    "\n",
    "def update_models(version=-1, remove_old_versions=False):\n",
    "\n",
    "    update = {}\n",
    "\n",
    "    for model_name in REGISTERED_MODELS:\n",
    "        model = None\n",
    "        update[model_name] = 0\n",
    "        for mv in MLFLOW_CLIENT.search_model_versions(f\"name='{model_name}'\"):\n",
    "            mv_bckp = mv\n",
    "            mv = dict(mv)\n",
    "            if version == mv['version'] or (version == -1 and mv['current_stage'] == 'Production'):\n",
    "                mv['last_updated_timestamp'] = str(datetime.fromtimestamp(int(mv['last_updated_timestamp'] / 1000)))\n",
    "                bucket = mv['source'].split('//')[1].split('/')[0]\n",
    "                folder = mv['source'].split('//')[1].split('/')[1]\n",
    "                if os.path.exists(os.path.join('./models', folder)):\n",
    "                    print(\"Load existing model...\")\n",
    "                    model = os.path.join(os.path.join('./models', folder), \"artifacts/model/data/model.h5\")\n",
    "                else:\n",
    "                    print(\"Downloading model...\")\n",
    "                    downlod_model(bucket, folder)\n",
    "                    model = os.path.join(os.path.join('./models', folder), \"artifacts/model/data/model.h5\")\n",
    "                    if remove_old_versions and os.path.exists('./models'):\n",
    "                        shutil.rmtree('./models')\n",
    "                    if not os.path.exists('./models'):\n",
    "                        os.mkdir('./models')\n",
    "                    shutil.move(os.path.join(os.getcwd(), folder), './models')\n",
    "                    update[model_name] = 1\n",
    "                print(\"Using model {name} v{version} ({current_stage}) updated at {last_updated_timestamp}\".format(**mv))\n",
    "                #response = {k: v for k, v in mv.items() if v}\n",
    "                break\n",
    "        if model:\n",
    "            MODELS[model_name] = (model, mv_bckp)\n",
    "\n",
    "    return update\n",
    "\n",
    "\n",
    "def get_model(model_name):\n",
    "\n",
    "    return MODELS.get(model_name, None)"
   ]
  },
  {
   "cell_type": "markdown",
   "metadata": {},
   "source": [
    "# Descargar la última versión del modelo"
   ]
  },
  {
   "cell_type": "code",
   "execution_count": 28,
   "metadata": {},
   "outputs": [
    {
     "name": "stdout",
     "output_type": "stream",
     "text": [
      "Load existing model...\n",
      "Using model Hands v10 (Staging) updated at 2020-12-29 21:58:48\n",
      "<Run: data=<RunData: metrics={'loss': 22.5849361419678,\n",
      " 'lr': 0.0001,\n",
      " 'stopped_epoch': 64.0,\n",
      " 'val_loss': 22.2823333740234}, params={'augmentation': 'True',\n",
      " 'baseline': 'None',\n",
      " 'batch_size': '16',\n",
      " 'early_stop_patience': '5',\n",
      " 'epochs': '100',\n",
      " 'initial_epoch': '0',\n",
      " 'learning_rate': '0.0001',\n",
      " 'min_delta': '0',\n",
      " 'monitor': 'val_loss',\n",
      " 'normalize': 'True',\n",
      " 'opt_amsgrad': 'False',\n",
      " 'opt_beta_1': '0.9',\n",
      " 'opt_beta_2': '0.999',\n",
      " 'opt_decay': '0.0',\n",
      " 'opt_epsilon': '1e-07',\n",
      " 'opt_learning_rate': '0.0001',\n",
      " 'opt_name': 'Adam',\n",
      " 'patience': '3',\n",
      " 'reduce_lr_factor': '0.1',\n",
      " 'reduce_lr_patience': '3',\n",
      " 'restore_best_weights': 'False',\n",
      " 'standarize': 'True',\n",
      " 'steps_per_epoch': '115',\n",
      " 'validation_split': '0.2',\n",
      " 'validation_steps': '28'}, tags={'dataset': 'vott-csv-export-augmented-all',\n",
      " 'mlflow.log-model.history': '[{\"run_id\": \"82f298920f8646ef89bd4313ef8202d9\", '\n",
      "                             '\"artifact_path\": \"model\", \"utc_time_created\": '\n",
      "                             '\"2020-12-28 20:25:07.366635\", \"flavors\": '\n",
      "                             '{\"keras\": {\"keras_module\": \"keras\", '\n",
      "                             '\"keras_version\": \"2.4.3\", \"data\": \"data\"}, '\n",
      "                             '\"python_function\": {\"loader_module\": '\n",
      "                             '\"mlflow.keras\", \"python_version\": \"3.6.9\", '\n",
      "                             '\"data\": \"data\", \"env\": \"conda.yaml\"}}}]',\n",
      " 'mlflow.source.name': '/usr/local/lib/python3.6/dist-packages/ipykernel_launcher.py',\n",
      " 'mlflow.source.type': 'LOCAL',\n",
      " 'mlflow.user': 'root'}>, info=<RunInfo: artifact_uri='s3://mlflow-tfm/82f298920f8646ef89bd4313ef8202d9/artifacts', end_time=1609188007886, experiment_id='44', lifecycle_stage='active', run_id='82f298920f8646ef89bd4313ef8202d9', run_uuid='82f298920f8646ef89bd4313ef8202d9', start_time=1609184670786, status='FINISHED', user_id='root'>>\n",
      "Load existing model...\n",
      "Using model Hands v11 (Production) updated at 2020-12-29 21:58:56\n",
      "<Run: data=<RunData: metrics={'loss': 22.5849361419678,\n",
      " 'lr': 0.0001,\n",
      " 'stopped_epoch': 64.0,\n",
      " 'val_loss': 22.2823333740234}, params={'augmentation': 'True',\n",
      " 'baseline': 'None',\n",
      " 'batch_size': '16',\n",
      " 'early_stop_patience': '5',\n",
      " 'epochs': '100',\n",
      " 'initial_epoch': '0',\n",
      " 'learning_rate': '0.0001',\n",
      " 'min_delta': '0',\n",
      " 'monitor': 'val_loss',\n",
      " 'normalize': 'True',\n",
      " 'opt_amsgrad': 'False',\n",
      " 'opt_beta_1': '0.9',\n",
      " 'opt_beta_2': '0.999',\n",
      " 'opt_decay': '0.0',\n",
      " 'opt_epsilon': '1e-07',\n",
      " 'opt_learning_rate': '0.0001',\n",
      " 'opt_name': 'Adam',\n",
      " 'patience': '3',\n",
      " 'reduce_lr_factor': '0.1',\n",
      " 'reduce_lr_patience': '3',\n",
      " 'restore_best_weights': 'False',\n",
      " 'standarize': 'True',\n",
      " 'steps_per_epoch': '115',\n",
      " 'validation_split': '0.2',\n",
      " 'validation_steps': '28'}, tags={'dataset': 'vott-csv-export-augmented-all',\n",
      " 'mlflow.log-model.history': '[{\"run_id\": \"82f298920f8646ef89bd4313ef8202d9\", '\n",
      "                             '\"artifact_path\": \"model\", \"utc_time_created\": '\n",
      "                             '\"2020-12-28 20:25:07.366635\", \"flavors\": '\n",
      "                             '{\"keras\": {\"keras_module\": \"keras\", '\n",
      "                             '\"keras_version\": \"2.4.3\", \"data\": \"data\"}, '\n",
      "                             '\"python_function\": {\"loader_module\": '\n",
      "                             '\"mlflow.keras\", \"python_version\": \"3.6.9\", '\n",
      "                             '\"data\": \"data\", \"env\": \"conda.yaml\"}}}]',\n",
      " 'mlflow.source.name': '/usr/local/lib/python3.6/dist-packages/ipykernel_launcher.py',\n",
      " 'mlflow.source.type': 'LOCAL',\n",
      " 'mlflow.user': 'root'}>, info=<RunInfo: artifact_uri='s3://mlflow-tfm/82f298920f8646ef89bd4313ef8202d9/artifacts', end_time=1609188007886, experiment_id='44', lifecycle_stage='active', run_id='82f298920f8646ef89bd4313ef8202d9', run_uuid='82f298920f8646ef89bd4313ef8202d9', start_time=1609184670786, status='FINISHED', user_id='root'>>\n"
     ]
    }
   ],
   "source": [
    "os.chdir('/home/ubuntu/tfm/standalone')\n",
    "versions = [10, 11]\n",
    "for version in versions:\n",
    "    update_flag = update_models(version)\n",
    "    model_path, model_meta = get_model('Hands')\n",
    "    print(MLFLOW_CLIENT.get_run(model_data.run_id))"
   ]
  },
  {
   "cell_type": "code",
   "execution_count": 29,
   "metadata": {},
   "outputs": [
    {
     "data": {
      "text/plain": [
       "['e97e8a8ee4854e428e66715bef1f6dee', '82f298920f8646ef89bd4313ef8202d9']"
      ]
     },
     "execution_count": 29,
     "metadata": {},
     "output_type": "execute_result"
    }
   ],
   "source": [
    "os.listdir('/home/ubuntu/tfm/standalone/models')"
   ]
  }
 ],
 "metadata": {
  "kernelspec": {
   "display_name": "Python 3",
   "language": "python",
   "name": "python3"
  },
  "language_info": {
   "codemirror_mode": {
    "name": "ipython",
    "version": 3
   },
   "file_extension": ".py",
   "mimetype": "text/x-python",
   "name": "python",
   "nbconvert_exporter": "python",
   "pygments_lexer": "ipython3",
   "version": "3.7.8"
  }
 },
 "nbformat": 4,
 "nbformat_minor": 4
}
