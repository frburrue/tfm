{
 "cells": [
  {
   "cell_type": "markdown",
   "metadata": {},
   "source": [
    "# Dependencias"
   ]
  },
  {
   "cell_type": "code",
   "execution_count": 1,
   "metadata": {},
   "outputs": [],
   "source": [
    "from pymongo import MongoClient\n",
    "import os\n",
    "import copy\n",
    "\n",
    "class MongoWrapper:\n",
    "\n",
    "    def __init__(self):\n",
    "\n",
    "        self.client = MongoClient(\n",
    "            'mongodb://' + os.getenv('MONGO_USERNAME') + ':' + os.getenv('MONGO_PASSWORD') + \\\n",
    "                '@' + os.getenv('MONGO', 'localhost:60222')\n",
    "        )\n",
    "        self.db = self.client[os.getenv('MONGO_BBDD', 'admin')]\n",
    "\n",
    "    def set_one(self, collection, document):\n",
    "\n",
    "        return self.db[collection].insert_one(document).acknowledged\n",
    "\n",
    "    def get_one(self, collection, query):\n",
    "\n",
    "        return self.db[collection].find_one(query)\n",
    "\n",
    "    def get_many(self, collection, query):\n",
    "\n",
    "        return self.db[collection].find(query)\n",
    "\n",
    "    def __upsert(self, collection, query, document, options):\n",
    "\n",
    "        return self.db[collection].update(query, document, **options).get('ok') == 1.0\n",
    "\n",
    "    def upsert_one(self, collection, query, document):\n",
    "\n",
    "        return self.__upsert(collection, query, document, {\"upsert\": True, \"multi\": False})\n",
    "\n",
    "    def upsert_many(self, collection, query, document):\n",
    "\n",
    "        return self.__upsert(collection, query, document, {\"upsert\": True, \"multi\": True})\n",
    "\n",
    "    def delete_one(self, collection, query):\n",
    "\n",
    "        self.db[collection].delete_one(query)\n",
    "\n",
    "    def delete_many(self, collection, query):\n",
    "\n",
    "        self.db[collection].delete_many(query)"
   ]
  },
  {
   "cell_type": "markdown",
   "metadata": {},
   "source": [
    "# Recopilación de información de distintos canales"
   ]
  },
  {
   "cell_type": "code",
   "execution_count": 6,
   "metadata": {},
   "outputs": [],
   "source": [
    "MONGO_CLIENT = MongoWrapper()\n",
    "USERS_COLLECTION = 'users'\n",
    "DATA_COLLECTION = 'nodered'\n",
    "MQTT_COLLECTION = 'mqtt'\n",
    "TWTITTER_COLLECTION = 'twitter'"
   ]
  },
  {
   "cell_type": "code",
   "execution_count": 10,
   "metadata": {},
   "outputs": [],
   "source": [
    "usernames = {user['user']: user['id'] for user in [copy.deepcopy(user) for user in MONGO_CLIENT.get_many(USERS_COLLECTION, {})]}"
   ]
  },
  {
   "cell_type": "code",
   "execution_count": 11,
   "metadata": {},
   "outputs": [
    {
     "data": {
      "text/plain": [
       "{'CALZADOS M&N': 265790648, 'LOS AMIGOS': -1, \"LETICIA'S\": -2}"
      ]
     },
     "execution_count": 11,
     "metadata": {},
     "output_type": "execute_result"
    }
   ],
   "source": [
    "usernames"
   ]
  },
  {
   "cell_type": "code",
   "execution_count": 23,
   "metadata": {},
   "outputs": [],
   "source": [
    "id_user ={'id': usernames['CALZADOS M&N'], 'user': 'CALZADOS M&N'}"
   ]
  },
  {
   "cell_type": "code",
   "execution_count": 24,
   "metadata": {},
   "outputs": [
    {
     "data": {
      "text/plain": [
       "{'id': 265790648, 'user': 'CALZADOS M&N'}"
      ]
     },
     "execution_count": 24,
     "metadata": {},
     "output_type": "execute_result"
    }
   ],
   "source": [
    "id_user"
   ]
  },
  {
   "cell_type": "code",
   "execution_count": 25,
   "metadata": {},
   "outputs": [
    {
     "name": "stdout",
     "output_type": "stream",
     "text": [
      "{'_id': ObjectId('5fdb928f4ed3af001076a8b0'), 'mqttId': 265790648, 'content': {'ambiance': 22, 'ocupation': 3}, 'date': 1608225423}\n"
     ]
    }
   ],
   "source": [
    "for item in MONGO_CLIENT.get_many(MQTT_COLLECTION, {'mqttId': id_user['id']}):\n",
    "    print(item)"
   ]
  },
  {
   "cell_type": "code",
   "execution_count": 30,
   "metadata": {},
   "outputs": [
    {
     "name": "stdout",
     "output_type": "stream",
     "text": [
      "{'_id': ObjectId('5fdb9d004ed3af001076a8b1'), 'content': '#fba_iot_tfm_2020_bot #CALZADOS_M&N Tax efficiency makes a big difference. Let’s talk before year-end.\\n https://t.co/LVVsG1lVmi', 'tweetId': 'CALZADOS_M&N', 'show': True, 'date': 1608228096}\n"
     ]
    }
   ],
   "source": [
    "for item in MONGO_CLIENT.get_many(TWTITTER_COLLECTION, {'tweetId': id_user['user'].replace(' ', '_')}):\n",
    "    print(item)"
   ]
  },
  {
   "cell_type": "code",
   "execution_count": 28,
   "metadata": {},
   "outputs": [
    {
     "data": {
      "text/plain": [
       "'CALZADOS_M&N'"
      ]
     },
     "execution_count": 28,
     "metadata": {},
     "output_type": "execute_result"
    }
   ],
   "source": [
    "id_user['user'].replace(' ', '_')"
   ]
  }
 ],
 "metadata": {
  "kernelspec": {
   "display_name": "Python 3",
   "language": "python",
   "name": "python3"
  },
  "language_info": {
   "codemirror_mode": {
    "name": "ipython",
    "version": 3
   },
   "file_extension": ".py",
   "mimetype": "text/x-python",
   "name": "python",
   "nbconvert_exporter": "python",
   "pygments_lexer": "ipython3",
   "version": "3.7.8"
  }
 },
 "nbformat": 4,
 "nbformat_minor": 4
}
