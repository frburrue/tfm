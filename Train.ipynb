{
 "cells": [
  {
   "cell_type": "markdown",
   "metadata": {
    "id": "79Fr2xaHUhmj"
   },
   "source": [
    "# Montar contenido de Google Drive (Google Colab)"
   ]
  },
  {
   "cell_type": "code",
   "execution_count": null,
   "metadata": {
    "colab": {
     "base_uri": "https://localhost:8080/"
    },
    "executionInfo": {
     "elapsed": 1013,
     "status": "ok",
     "timestamp": 1609172464768,
     "user": {
      "displayName": "FRANCISCO BURRUEZO ARANDA",
      "photoUrl": "https://lh3.googleusercontent.com/a-/AOh14GjfinnPXnlj0R81oebuQJxWCO-n1L4f00mNA9Fv4w=s64",
      "userId": "03318447701719449608"
     },
     "user_tz": -60
    },
    "id": "HLveuIyzT8ze",
    "outputId": "bd3e13ee-a04a-4cb2-b2ff-994ca92731b2",
    "pycharm": {
     "name": "#%%\n"
    }
   },
   "outputs": [],
   "source": [
    "import os\n",
    "from google.colab import drive\n",
    "drive.mount('/content/drive')\n",
    "os.chdir(\"/content/drive/My Drive/Colab Notebooks/TFM/TrainYourOwnYOLO/\")"
   ]
  },
  {
   "cell_type": "markdown",
   "metadata": {
    "id": "gVJkPFnmB0IA",
    "pycharm": {
     "name": "#%% md\n"
    }
   },
   "source": [
    "# Comprobar disponibilidad GPU (Google Colab)"
   ]
  },
  {
   "cell_type": "code",
   "execution_count": null,
   "metadata": {
    "colab": {
     "base_uri": "https://localhost:8080/"
    },
    "executionInfo": {
     "elapsed": 1362,
     "status": "ok",
     "timestamp": 1609172467127,
     "user": {
      "displayName": "FRANCISCO BURRUEZO ARANDA",
      "photoUrl": "https://lh3.googleusercontent.com/a-/AOh14GjfinnPXnlj0R81oebuQJxWCO-n1L4f00mNA9Fv4w=s64",
      "userId": "03318447701719449608"
     },
     "user_tz": -60
    },
    "id": "mCcWbVnBBx15",
    "outputId": "8768391f-6815-4339-e885-bc239647abc8"
   },
   "outputs": [],
   "source": [
    "gpu_info = !nvidia-smi\n",
    "gpu_info = '\\n'.join(gpu_info)\n",
    "if gpu_info.find('failed') >= 0:\n",
    "  print('Select the Runtime > \"Change runtime type\" menu to enable a GPU accelerator, ')\n",
    "  print('and then re-execute this cell.')\n",
    "else:\n",
    "  print(gpu_info)"
   ]
  },
  {
   "cell_type": "markdown",
   "metadata": {
    "id": "STDrqjGOpb3t"
   },
   "source": [
    "# Dependencias (Google Colab)"
   ]
  },
  {
   "cell_type": "code",
   "execution_count": null,
   "metadata": {
    "colab": {
     "base_uri": "https://localhost:8080/"
    },
    "executionInfo": {
     "elapsed": 3235,
     "status": "ok",
     "timestamp": 1609172470771,
     "user": {
      "displayName": "FRANCISCO BURRUEZO ARANDA",
      "photoUrl": "https://lh3.googleusercontent.com/a-/AOh14GjfinnPXnlj0R81oebuQJxWCO-n1L4f00mNA9Fv4w=s64",
      "userId": "03318447701719449608"
     },
     "user_tz": -60
    },
    "id": "NOY70xLdOUFO",
    "outputId": "dcd5ebb4-3140-4807-97c2-9dd360f9818b"
   },
   "outputs": [],
   "source": [
    "!pip install mlflow==1.10 boto3==1.15.11"
   ]
  },
  {
   "cell_type": "markdown",
   "metadata": {
    "id": "-lGWghyWph35"
   },
   "source": [
    "# Inicialización de MLflow"
   ]
  },
  {
   "cell_type": "code",
   "execution_count": 1,
   "metadata": {
    "executionInfo": {
     "elapsed": 1080,
     "status": "ok",
     "timestamp": 1609172470773,
     "user": {
      "displayName": "FRANCISCO BURRUEZO ARANDA",
      "photoUrl": "https://lh3.googleusercontent.com/a-/AOh14GjfinnPXnlj0R81oebuQJxWCO-n1L4f00mNA9Fv4w=s64",
      "userId": "03318447701719449608"
     },
     "user_tz": -60
    },
    "id": "qgcn8RFTNy2F",
    "pycharm": {
     "is_executing": true
    }
   },
   "outputs": [
    {
     "name": "stderr",
     "output_type": "stream",
     "text": [
      "/home/ubuntu/miniconda3/envs/tfm/lib/python3.7/site-packages/tensorflow/python/data/ops/iterator_ops.py:546: DeprecationWarning: Using or importing the ABCs from 'collections' instead of from 'collections.abc' is deprecated since Python 3.3,and in 3.9 it will stop working\n",
      "  class IteratorBase(collections.Iterator, trackable.Trackable,\n",
      "/home/ubuntu/miniconda3/envs/tfm/lib/python3.7/site-packages/tensorflow/python/data/ops/dataset_ops.py:106: DeprecationWarning: Using or importing the ABCs from 'collections' instead of from 'collections.abc' is deprecated since Python 3.3,and in 3.9 it will stop working\n",
      "  class DatasetV2(collections.Iterable, tracking_base.Trackable,\n"
     ]
    }
   ],
   "source": [
    "import os\n",
    "import mlflow\n",
    "import mlflow.tensorflow\n",
    "\n",
    "mlflow.set_tracking_uri(os.environ.get('MLFLOW_TRACKING_URI'))"
   ]
  },
  {
   "cell_type": "markdown",
   "metadata": {
    "id": "IsjAH3q6CknE"
   },
   "source": [
    "## Nuevo experimento"
   ]
  },
  {
   "cell_type": "code",
   "execution_count": 2,
   "metadata": {
    "executionInfo": {
     "elapsed": 11362,
     "status": "ok",
     "timestamp": 1609178546819,
     "user": {
      "displayName": "FRANCISCO BURRUEZO ARANDA",
      "photoUrl": "https://lh3.googleusercontent.com/a-/AOh14GjfinnPXnlj0R81oebuQJxWCO-n1L4f00mNA9Fv4w=s64",
      "userId": "03318447701719449608"
     },
     "user_tz": -60
    },
    "id": "D2rINEwwChrv"
   },
   "outputs": [
    {
     "name": "stderr",
     "output_type": "stream",
     "text": [
      "/home/ubuntu/miniconda3/envs/tfm/lib/python3.7/site-packages/ipykernel/ipkernel.py:287: DeprecationWarning: `should_run_async` will not call `transform_cell` automatically in the future. Please pass the result to `transformed_cell` argument and any exception that happen during thetransform in `preprocessing_exc_tuple` in IPython 7.17 and above.\n",
      "  and should_run_async(code)\n"
     ]
    }
   ],
   "source": [
    "expname = \"tfm-candidate-dic-augmented-local\"\n",
    "id_exp = mlflow.create_experiment(expname, artifact_location=os.environ.get('MLFLOW_ARTIFACTS_PATH'))\n",
    "\n",
    "mlflow.end_run()\n",
    "mlflow.tensorflow.autolog(every_n_iter=1)"
   ]
  },
  {
   "cell_type": "markdown",
   "metadata": {
    "id": "sAV3ieXcCoKV"
   },
   "source": [
    "## Cargar experimento"
   ]
  },
  {
   "cell_type": "code",
   "execution_count": null,
   "metadata": {
    "executionInfo": {
     "elapsed": 10773,
     "status": "ok",
     "timestamp": 1609179735935,
     "user": {
      "displayName": "FRANCISCO BURRUEZO ARANDA",
      "photoUrl": "https://lh3.googleusercontent.com/a-/AOh14GjfinnPXnlj0R81oebuQJxWCO-n1L4f00mNA9Fv4w=s64",
      "userId": "03318447701719449608"
     },
     "user_tz": -60
    },
    "id": "_-A3WS_gCDXc"
   },
   "outputs": [],
   "source": [
    "exp = mlflow.get_experiment_by_name(\"tfm-candidate-dic-augmented-local\")\n",
    "id_exp = exp.experiment_id\n",
    "\n",
    "mlflow.end_run()\n",
    "mlflow.tensorflow.autolog(every_n_iter=1)"
   ]
  },
  {
   "cell_type": "markdown",
   "metadata": {
    "id": "_qO2RVwrkaAP",
    "pycharm": {
     "name": "#%% md\n"
    }
   },
   "source": [
    "# Entrenamiento del modelo"
   ]
  },
  {
   "cell_type": "markdown",
   "metadata": {
    "id": "CQtACJxNDe4X"
   },
   "source": [
    "## Obtener el número de imágenes"
   ]
  },
  {
   "cell_type": "code",
   "execution_count": null,
   "metadata": {
    "colab": {
     "base_uri": "https://localhost:8080/"
    },
    "executionInfo": {
     "elapsed": 1454,
     "status": "ok",
     "timestamp": 1609180035481,
     "user": {
      "displayName": "FRANCISCO BURRUEZO ARANDA",
      "photoUrl": "https://lh3.googleusercontent.com/a-/AOh14GjfinnPXnlj0R81oebuQJxWCO-n1L4f00mNA9Fv4w=s64",
      "userId": "03318447701719449608"
     },
     "user_tz": -60
    },
    "id": "1Xe3RBa8Ddsi",
    "outputId": "9b8ffe6c-0276-4cd3-c5b9-464a7c16445a"
   },
   "outputs": [],
   "source": [
    "len(os.listdir(\"./Data/Source_Images/Training_Images/vott-csv-export-augmented-all\"))-2"
   ]
  },
  {
   "cell_type": "markdown",
   "metadata": {
    "id": "ZlJo2vxnBdUZ",
    "pycharm": {
     "name": "#%% md\n"
    }
   },
   "source": [
    "## Descargar los pesos de YOLOv3 (Sólo si no están descargados ya)"
   ]
  },
  {
   "cell_type": "code",
   "execution_count": null,
   "metadata": {
    "colab": {
     "base_uri": "https://localhost:8080/",
     "height": 1000
    },
    "executionInfo": {
     "elapsed": 7656,
     "status": "ok",
     "timestamp": 1601579970321,
     "user": {
      "displayName": "FRANCISCO BURRUEZO ARANDA",
      "photoUrl": "https://lh3.googleusercontent.com/a-/AOh14GjfinnPXnlj0R81oebuQJxWCO-n1L4f00mNA9Fv4w=s64",
      "userId": "03318447701719449608"
     },
     "user_tz": -120
    },
    "id": "j70tZIA-RnYZ",
    "outputId": "439bc216-1ffd-45e4-8eb3-2dbbfd432d5a",
    "pycharm": {
     "name": "#%%\n"
    }
   },
   "outputs": [],
   "source": [
    "os.chdir(\"./2_Training/src/keras_yolo3\")\n",
    "!wget https://pjreddie.com/media/files/yolov3.weights\n",
    "!python convert.py yolov3.cfg yolov3.weights model_data/yolo.h5"
   ]
  },
  {
   "cell_type": "markdown",
   "metadata": {},
   "source": [
    "## Instalación de YOLOv3 en TensorFlow (Local)"
   ]
  },
  {
   "cell_type": "code",
   "execution_count": 3,
   "metadata": {},
   "outputs": [],
   "source": [
    "os.chdir('/home/ubuntu/tfm/TrainYourOwnYOLO')"
   ]
  },
  {
   "cell_type": "markdown",
   "metadata": {
    "id": "Y9r0VOj9BiYn"
   },
   "source": [
    "## Instalar implentación de YOLOv3 en TensorFlow (Ejecutar Google Colab)"
   ]
  },
  {
   "cell_type": "code",
   "execution_count": null,
   "metadata": {
    "colab": {
     "base_uri": "https://localhost:8080/"
    },
    "executionInfo": {
     "elapsed": 2041,
     "status": "ok",
     "timestamp": 1609180043615,
     "user": {
      "displayName": "FRANCISCO BURRUEZO ARANDA",
      "photoUrl": "https://lh3.googleusercontent.com/a-/AOh14GjfinnPXnlj0R81oebuQJxWCO-n1L4f00mNA9Fv4w=s64",
      "userId": "03318447701719449608"
     },
     "user_tz": -60
    },
    "id": "1GJ03hQwkQSj",
    "outputId": "ed8969d9-c1f3-4e4a-b94c-9da682ac9d1d"
   },
   "outputs": [],
   "source": [
    "os.chdir(\"./2_Training/src/keras_yolo3\")\n",
    "!python setup.py install\n",
    "from yolo3 import model\n",
    "os.chdir(\"/content/drive/My Drive/Colab Notebooks/TFM/TrainYourOwnYOLO\")\n",
    "from yolo3 import model"
   ]
  },
  {
   "cell_type": "markdown",
   "metadata": {},
   "source": [
    "## Utilidades de la implementación de YOLOv3 y MLflow"
   ]
  },
  {
   "cell_type": "code",
   "execution_count": 4,
   "metadata": {
    "executionInfo": {
     "elapsed": 1124,
     "status": "ok",
     "timestamp": 1609188331800,
     "user": {
      "displayName": "FRANCISCO BURRUEZO ARANDA",
      "photoUrl": "https://lh3.googleusercontent.com/a-/AOh14GjfinnPXnlj0R81oebuQJxWCO-n1L4f00mNA9Fv4w=s64",
      "userId": "03318447701719449608"
     },
     "user_tz": -60
    },
    "id": "2ObycFkTkxrH",
    "pycharm": {
     "name": "#%%\n"
    }
   },
   "outputs": [],
   "source": [
    "import numpy as np\n",
    "from psycopg2.extensions import register_adapter, AsIs\n",
    "\n",
    "def addapt_numpy_float64(numpy_float64):\n",
    "    return AsIs(numpy_float64)\n",
    "\n",
    "def addapt_numpy_int64(numpy_int64):\n",
    "    return AsIs(numpy_int64)\n",
    "\n",
    "def addapt_numpy_float32(numpy_float32):\n",
    "    return AsIs(numpy_float32)\n",
    "\n",
    "def addapt_numpy_int32(numpy_int32):\n",
    "    return AsIs(numpy_int32)\n",
    "\n",
    "def addapt_numpy_array(numpy_array):\n",
    "    return AsIs(tuple(numpy_array))\n",
    "\n",
    "register_adapter(np.float64, addapt_numpy_float64)\n",
    "register_adapter(np.int64, addapt_numpy_int64)\n",
    "register_adapter(np.float32, addapt_numpy_float32)\n",
    "register_adapter(np.int32, addapt_numpy_int32)\n",
    "register_adapter(np.ndarray, addapt_numpy_array)\n",
    "\n",
    "def get_classes(classes_path):\n",
    "    '''loads the classes'''\n",
    "    with open(classes_path) as f:\n",
    "        class_names = f.readlines()\n",
    "    class_names = [c.strip() for c in class_names]\n",
    "    return class_names\n",
    "\n",
    "def get_anchors(anchors_path):\n",
    "    '''loads the anchors from a file'''\n",
    "    with open(anchors_path) as f:\n",
    "        anchors = f.readline()\n",
    "    anchors = [float(x) for x in anchors.split(',')]\n",
    "    return np.array(anchors).reshape(-1, 2)\n",
    "\n",
    "def create_model(input_shape, anchors, num_classes, load_pretrained=True, freeze_body=2,\n",
    "            weights_path='model_data/yolo_weights.h5'):\n",
    "    '''create the training model'''\n",
    "    K.clear_session() # get a new session\n",
    "    image_input = Input(shape=(None, None, 3))\n",
    "    h, w = input_shape\n",
    "    num_anchors = len(anchors)\n",
    "\n",
    "    y_true = [Input(shape=(h//{0:32, 1:16, 2:8}[l], w//{0:32, 1:16, 2:8}[l], \\\n",
    "        num_anchors//3, num_classes+5)) for l in range(3)]\n",
    "\n",
    "    model_body = yolo_body(image_input, num_anchors//3, num_classes)\n",
    "    print('Create YOLOv3 model with {} anchors and {} classes.'.format(num_anchors, num_classes))\n",
    "\n",
    "    if load_pretrained:\n",
    "        model_body.load_weights(weights_path, by_name=True, skip_mismatch=True)\n",
    "        print('Load weights {}.'.format(weights_path))\n",
    "        if freeze_body in [1, 2]:\n",
    "            # Freeze darknet53 body or freeze all but 3 output layers.\n",
    "            num = (185, len(model_body.layers)-3)[freeze_body-1]\n",
    "            for i in range(num): model_body.layers[i].trainable = False\n",
    "            print('Freeze the first {} layers of total {} layers.'.format(num, len(model_body.layers)))\n",
    "\n",
    "    model_loss = Lambda(yolo_loss, output_shape=(1,), name='yolo_loss',\n",
    "        arguments={'anchors': anchors, 'num_classes': num_classes, 'ignore_thresh': 0.5})(\n",
    "        [*model_body.output, *y_true])\n",
    "    model = Model([model_body.input, *y_true], model_loss)\n",
    "\n",
    "    return model\n",
    "\n",
    "def create_tiny_model(input_shape, anchors, num_classes, load_pretrained=True, freeze_body=2,\n",
    "            weights_path='model_data/tiny_yolo_weights.h5'):\n",
    "    '''create the training model, for Tiny YOLOv3'''\n",
    "    K.clear_session() # get a new session\n",
    "    image_input = Input(shape=(None, None, 3))\n",
    "    h, w = input_shape\n",
    "    num_anchors = len(anchors)\n",
    "\n",
    "    y_true = [Input(shape=(h//{0:32, 1:16}[l], w//{0:32, 1:16}[l], \\\n",
    "        num_anchors//2, num_classes+5)) for l in range(2)]\n",
    "\n",
    "    model_body = tiny_yolo_body(image_input, num_anchors//2, num_classes)\n",
    "    print('Create Tiny YOLOv3 model with {} anchors and {} classes.'.format(num_anchors, num_classes))\n",
    "\n",
    "    if load_pretrained:\n",
    "        model_body.load_weights(weights_path, by_name=True, skip_mismatch=True)\n",
    "        print('Load weights {}.'.format(weights_path))\n",
    "        if freeze_body in [1, 2]:\n",
    "            # Freeze the darknet body or freeze all but 2 output layers.\n",
    "            num = (20, len(model_body.layers)-2)[freeze_body-1]\n",
    "            for i in range(num): model_body.layers[i].trainable = False\n",
    "            print('Freeze the first {} layers of total {} layers.'.format(num, len(model_body.layers)))\n",
    "\n",
    "    model_loss = Lambda(yolo_loss, output_shape=(1,), name='yolo_loss',\n",
    "        arguments={'anchors': anchors, 'num_classes': num_classes, 'ignore_thresh': 0.7})(\n",
    "        [*model_body.output, *y_true])\n",
    "    model = Model([model_body.input, *y_true], model_loss)\n",
    "\n",
    "    return model\n",
    "\n",
    "def data_generator(annotation_lines, batch_size, input_shape, anchors, num_classes):\n",
    "    '''data generator for fit_generator'''\n",
    "    n = len(annotation_lines)\n",
    "    i = 0\n",
    "    while True:\n",
    "        image_data = []\n",
    "        box_data = []\n",
    "        for b in range(batch_size):\n",
    "            if i==0:\n",
    "                np.random.shuffle(annotation_lines)\n",
    "            image, box = get_random_data(annotation_lines[i], input_shape, random=True)\n",
    "            image_data.append(image)\n",
    "            box_data.append(box)\n",
    "            i = (i+1) % n\n",
    "        image_data = np.array(image_data)\n",
    "        box_data = np.array(box_data)\n",
    "        y_true = preprocess_true_boxes(box_data, input_shape, anchors, num_classes)\n",
    "        yield [image_data, *y_true], np.zeros(batch_size)\n",
    "\n",
    "def data_generator_wrapper(annotation_lines, batch_size, input_shape, anchors, num_classes):\n",
    "    n = len(annotation_lines)\n",
    "    if n==0 or batch_size<=0: return None\n",
    "    return data_generator(annotation_lines, batch_size, input_shape, anchors, num_classes)"
   ]
  },
  {
   "cell_type": "markdown",
   "metadata": {},
   "source": [
    "## Dependencias, preparación de recursos y definición de parámetros"
   ]
  },
  {
   "cell_type": "code",
   "execution_count": 9,
   "metadata": {
    "pycharm": {
     "name": "#%%\n"
    }
   },
   "outputs": [],
   "source": [
    "import os\n",
    "import sys\n",
    "import warnings\n",
    "\n",
    "def get_parent_dir(n=1):\n",
    "    \"\"\"returns the n-th parent dicrectory of the current\n",
    "    working directory\"\"\"\n",
    "    current_path = os.path.dirname(os.path.abspath(os.path.join(os.getcwd(),\"2_Training/Train_YOLO.py\")))\n",
    "    for k in range(n):\n",
    "        current_path = os.path.dirname(current_path)\n",
    "    return current_path\n",
    "\n",
    "src_path = os.path.join(get_parent_dir(0), \"src\")\n",
    "\n",
    "import numpy as np\n",
    "import keras.backend as K\n",
    "from keras.layers import Input, Lambda\n",
    "from keras.models import Model\n",
    "from keras.optimizers import Adam\n",
    "from keras.callbacks import (\n",
    "    TensorBoard,\n",
    "    ModelCheckpoint,\n",
    "    ReduceLROnPlateau,\n",
    "    EarlyStopping,\n",
    ")\n",
    "from yolo3.model import (\n",
    "    preprocess_true_boxes,\n",
    "    yolo_body,\n",
    "    tiny_yolo_body,\n",
    "    yolo_loss,\n",
    ")\n",
    "from yolo3.utils import get_random_data\n",
    "import tensorflow as tf\n",
    "\n",
    "keras_path = os.path.join(src_path, \"keras_yolo3\")\n",
    "Data_Folder = os.path.join(get_parent_dir(1), \"Data\")\n",
    "Image_Folder = os.path.join(Data_Folder, \"Source_Images\", \"Training_Images\")\n",
    "VoTT_Folder = os.path.join(Image_Folder, \"vott-csv-export-augmented\")\n",
    "YOLO_filename = os.path.join(VoTT_Folder, \"data_train.txt\")\n",
    "\n",
    "Model_Folder = os.path.join(Data_Folder, \"Model_Weights\")\n",
    "YOLO_classname = os.path.join(Model_Folder, \"data_classes.txt\")\n",
    "\n",
    "log_dir = Model_Folder\n",
    "anchors_path = os.path.join(keras_path, \"model_data\", \"yolo_anchors.txt\")\n",
    "weights_path = os.path.join(keras_path, \"model_data\", \"yolo.h5\")\n",
    "\n",
    "FLAGS = None\n",
    "MLFLOW_PROJECT_PARAMS = {\n",
    "      'validation_split': 0.2,\n",
    "      'epochs': 1,\n",
    "      'batch_size': 4,\n",
    "      'steps_per_epoch': -1,\n",
    "      'validation_steps': -1,\n",
    "      'augmentation': True,\n",
    "      'normalize': True,\n",
    "      'standarize': True,\n",
    "      'learning_rate': 1e-4,\n",
    "      'reduce_lr_factor': 0.1,\n",
    "      'reduce_lr_patience': 3,\n",
    "      'early_stop_patience': 5\n",
    "}\n",
    "MLFLOW_TAGS = {\n",
    "    'dataset': VoTT_Folder\n",
    "}\n",
    "\n",
    "class TRAIN_FLAGS:\n",
    "  warnings = False\n",
    "  log_dir = log_dir\n",
    "  classes_file=YOLO_classname\n",
    "  weights_path = weights_path\n",
    "  anchors_path = anchors_path\n",
    "  annotation_file=YOLO_filename\n",
    "\n",
    "FLAGS = TRAIN_FLAGS()\n",
    "\n",
    "with open(FLAGS.annotation_file) as f:\n",
    "  lines = f.readlines()\n",
    "\n",
    "lines = [line.replace(\"/home/francisco/Documentos/tfm/TrainYourOwnYOLO\",\".\") for line in lines]\n",
    "if not MLFLOW_PROJECT_PARAMS['augmentation']:\n",
    "    lines = [line for line in lines if 'aug' not in line.split(' ')[0]]\n",
    "\n",
    "np.random.seed(10101)\n",
    "np.random.shuffle(lines)\n",
    "np.random.seed(None)\n",
    "val_split = MLFLOW_PROJECT_PARAMS['validation_split']\n",
    "num_val = int(len(lines) * val_split)\n",
    "num_train = len(lines) - num_val\n",
    "MLFLOW_PROJECT_PARAMS['steps_per_epoch'] = (max(1, num_train // MLFLOW_PROJECT_PARAMS['batch_size']*4), max(1, num_train // MLFLOW_PROJECT_PARAMS['batch_size']))\n",
    "MLFLOW_PROJECT_PARAMS['validation_steps'] = (max(1, num_val // MLFLOW_PROJECT_PARAMS['batch_size']*4), max(1, num_train // MLFLOW_PROJECT_PARAMS['batch_size']))"
   ]
  },
  {
   "cell_type": "markdown",
   "metadata": {},
   "source": [
    "## Crear modelo y cargar pesos"
   ]
  },
  {
   "cell_type": "code",
   "execution_count": 10,
   "metadata": {
    "pycharm": {
     "name": "#%%\n"
    }
   },
   "outputs": [
    {
     "name": "stdout",
     "output_type": "stream",
     "text": [
      "Create YOLOv3 model with 9 anchors and 2 classes.\n",
      "WARNING:tensorflow:Skipping loading of weights for layer conv2d_58 due to mismatch in shape ((1, 1, 1024, 21) vs (255, 1024, 1, 1)).\n",
      "WARNING:tensorflow:Skipping loading of weights for layer conv2d_58 due to mismatch in shape ((21,) vs (255,)).\n",
      "WARNING:tensorflow:Skipping loading of weights for layer conv2d_66 due to mismatch in shape ((1, 1, 512, 21) vs (255, 512, 1, 1)).\n",
      "WARNING:tensorflow:Skipping loading of weights for layer conv2d_66 due to mismatch in shape ((21,) vs (255,)).\n",
      "WARNING:tensorflow:Skipping loading of weights for layer conv2d_74 due to mismatch in shape ((1, 1, 256, 21) vs (255, 256, 1, 1)).\n",
      "WARNING:tensorflow:Skipping loading of weights for layer conv2d_74 due to mismatch in shape ((21,) vs (255,)).\n",
      "Load weights /home/ubuntu/tfm/TrainYourOwnYOLO/2_Training/src/keras_yolo3/model_data/yolo.h5.\n",
      "Freeze the first 249 layers of total 252 layers.\n"
     ]
    }
   ],
   "source": [
    "log_dir = FLAGS.log_dir\n",
    "class_names = get_classes(FLAGS.classes_file)\n",
    "num_classes = len(class_names)\n",
    "anchors = get_anchors(FLAGS.anchors_path)\n",
    "input_shape = (416, 416)\n",
    "\n",
    "is_tiny_version = len(anchors) == 6  # default setting\n",
    "if is_tiny_version and FLAGS.weights_path == weights_path:\n",
    "  weights_path = os.path.join(os.path.dirname(FLAGS.weights_path), \"yolo-tiny.h5\")\n",
    "if is_tiny_version and FLAGS.anchors_path == anchors_path:\n",
    "  anchors_path = os.path.join(os.path.dirname(FLAGS.anchors_path), \"yolo-tiny_anchors.txt\")\n",
    "if is_tiny_version:\n",
    "  model = create_tiny_model(\n",
    "      input_shape, anchors, num_classes, freeze_body=2, weights_path=weights_path\n",
    "  )\n",
    "else:\n",
    "  model = create_model(\n",
    "      input_shape, anchors, num_classes, freeze_body=2, weights_path=weights_path\n",
    "  )  # make sure you know what you freeze"
   ]
  },
  {
   "cell_type": "markdown",
   "metadata": {},
   "source": [
    "## Configurar callbacks"
   ]
  },
  {
   "cell_type": "code",
   "execution_count": 11,
   "metadata": {
    "pycharm": {
     "name": "#%%\n"
    }
   },
   "outputs": [],
   "source": [
    "@tf.autograph.experimental.do_not_convert\n",
    "def yolo_loss_fnc(y_true, y_pred):\n",
    "  return y_pred\n",
    "\n",
    "checkpoint = ModelCheckpoint(\n",
    "    os.path.join(log_dir, \"checkpoint.h5\"),\n",
    "    monitor=\"yolo_loss\",\n",
    "    save_weights_only=True,\n",
    "    save_freq=5,\n",
    ")\n",
    "reduce_lr = ReduceLROnPlateau(monitor='val_loss', factor=MLFLOW_PROJECT_PARAMS['reduce_lr_factor'], patience=MLFLOW_PROJECT_PARAMS['reduce_lr_patience'], verbose=1)\n",
    "early_stopping = EarlyStopping(monitor='val_loss', min_delta=0, patience=MLFLOW_PROJECT_PARAMS['early_stop_patience'], verbose=1)"
   ]
  },
  {
   "cell_type": "markdown",
   "metadata": {},
   "source": [
    "## Entrenamiento del modelo (Primera fase)"
   ]
  },
  {
   "cell_type": "code",
   "execution_count": 13,
   "metadata": {
    "pycharm": {
     "name": "#%%\n"
    }
   },
   "outputs": [
    {
     "name": "stdout",
     "output_type": "stream",
     "text": [
      "Train on 16 samples, val on 4 samples, with batch size 16.\n",
      " 1/16 [>.............................] - ETA: 0s - loss: 6058.9180WARNING:tensorflow:From /home/ubuntu/miniconda3/envs/tfm/lib/python3.7/site-packages/tensorflow/python/ops/summary_ops_v2.py:1277: stop (from tensorflow.python.eager.profiler) is deprecated and will be removed after 2020-07-01.\n",
      "Instructions for updating:\n",
      "use `tf.profiler.experimental.stop` instead.\n",
      "16/16 [==============================] - 778s 49s/step - loss: 5351.1948 - val_loss: 4656.9375\n"
     ]
    }
   ],
   "source": [
    "mlflow.end_run()\n",
    "\n",
    "model.compile(\n",
    "  optimizer=Adam(lr=MLFLOW_PROJECT_PARAMS['learning_rate']),\n",
    "  loss={\n",
    "      # use custom yolo_loss Lambda layer.\n",
    "      \"yolo_loss\": yolo_loss_fnc\n",
    "  },\n",
    ")\n",
    "\n",
    "print(\n",
    "  \"Train on {} samples, val on {} samples, with batch size {}.\".format(\n",
    "      num_train, num_val, MLFLOW_PROJECT_PARAMS['batch_size']*4\n",
    "  )\n",
    ")\n",
    "history = model.fit(\n",
    "  data_generator_wrapper(\n",
    "      lines[:num_train], MLFLOW_PROJECT_PARAMS['batch_size']*4, input_shape, anchors, num_classes\n",
    "  ),\n",
    "  steps_per_epoch=MLFLOW_PROJECT_PARAMS['steps_per_epoch'][0],\n",
    "  validation_data=data_generator_wrapper(\n",
    "      lines[num_train:], MLFLOW_PROJECT_PARAMS['batch_size']*4, input_shape, anchors, num_classes\n",
    "  ),\n",
    "  validation_steps=MLFLOW_PROJECT_PARAMS['validation_steps'][0],\n",
    "  epochs=MLFLOW_PROJECT_PARAMS['epochs'],\n",
    "  initial_epoch=0,\n",
    "  callbacks=[],\n",
    ")\n",
    "model.save_weights(os.path.join(log_dir, \"trained_weights_first_yolo_loss.h5\"))"
   ]
  },
  {
   "cell_type": "markdown",
   "metadata": {},
   "source": [
    "## Entrenamiento del modelo (Segunda fase)"
   ]
  },
  {
   "cell_type": "code",
   "execution_count": null,
   "metadata": {},
   "outputs": [],
   "source": [
    "for i in range(len(model.layers)):\n",
    "  model.layers[i].trainable = True\n",
    "\n",
    "model.compile(optimizer=Adam(lr=MLFLOW_PROJECT_PARAMS['learning_rate']), loss={\"yolo_loss\": yolo_loss_fnc})\n",
    "\n",
    "print(\"Unfreeze all layers.\")\n",
    "\n",
    "print(\n",
    "  \"Train on {} samples, val on {} samples, with batch size {}.\".format(\n",
    "      num_train, num_val, MLFLOW_PROJECT_PARAMS['batch_size']\n",
    "  )\n",
    ")\n",
    "mlflow.end_run()\n",
    "mlflow.start_run(experiment_id=id_exp)\n",
    "mlflow.log_params(MLFLOW_PROJECT_PARAMS)\n",
    "mlflow.set_tags(MLFLOW_TAGS)\n",
    "\n",
    "history = model.fit(\n",
    "  data_generator_wrapper(\n",
    "      lines[:num_train], MLFLOW_PROJECT_PARAMS['batch_size'], input_shape, anchors, num_classes\n",
    "  ),\n",
    "  steps_per_epoch=max(1, num_train // batch_size),\n",
    "  validation_data=data_generator_wrapper(\n",
    "      lines[num_train:], MLFLOW_PROJECT_PARAMS['batch_size'], input_shape, anchors, num_classes\n",
    "  ),\n",
    "  validation_steps=max(1, num_val // batch_size),\n",
    "  epochs=MLFLOW_PROJECT_PARAMS['epochs'] + MLFLOW_PROJECT_PARAMS['epochs'],\n",
    "  initial_epoch=MLFLOW_PROJECT_PARAMS['epochs'],\n",
    "  callbacks=[checkpoint, reduce_lr, early_stopping],\n",
    ")\n",
    "model.save_weights(os.path.join(log_dir, \"trained_weights_final_yolo_loss.h5\"))\n",
    "mlflow.end_run()"
   ]
  },
  {
   "cell_type": "markdown",
   "metadata": {},
   "source": [
    "# Utilidades AWS"
   ]
  },
  {
   "cell_type": "markdown",
   "metadata": {},
   "source": [
    "## Parar base de datos"
   ]
  },
  {
   "cell_type": "code",
   "execution_count": null,
   "metadata": {
    "pycharm": {
     "name": "#%%\n"
    }
   },
   "outputs": [],
   "source": [
    "import sys\n",
    "import botocore\n",
    "import boto3\n",
    "from botocore.exceptions import ClientError\n",
    "\n",
    "rds = boto3.client('rds', region='eu-west-3')\n",
    "response = rds.stop_db_instance(DBInstanceIdentifier='mlflow')"
   ]
  },
  {
   "cell_type": "markdown",
   "metadata": {
    "pycharm": {
     "name": "#%%\n"
    }
   },
   "source": [
    "## Encender base de datos"
   ]
  },
  {
   "cell_type": "code",
   "execution_count": null,
   "metadata": {},
   "outputs": [],
   "source": [
    "import sys\n",
    "import botocore\n",
    "import boto3\n",
    "from botocore.exceptions import ClientError\n",
    "\n",
    "rds = boto3.client('rds', region='eu-west-3')\n",
    "response = rds.start_db_instance(DBInstanceIdentifier='mlflow')"
   ]
  },
  {
   "cell_type": "markdown",
   "metadata": {},
   "source": [
    "# Logs TensorFlow"
   ]
  },
  {
   "cell_type": "code",
   "execution_count": null,
   "metadata": {
    "pycharm": {
     "name": "#%%\n"
    }
   },
   "outputs": [],
   "source": [
    "%reload_ext tensorboard\n",
    "%tensorboard --logdir Data/Model_Weights"
   ]
  }
 ],
 "metadata": {
  "accelerator": "GPU",
  "colab": {
   "collapsed_sections": [],
   "name": "TrainYourOwnYOLO.ipynb",
   "provenance": [],
   "toc_visible": true
  },
  "kernelspec": {
   "display_name": "Python 3",
   "language": "python",
   "name": "python3"
  },
  "language_info": {
   "codemirror_mode": {
    "name": "ipython",
    "version": 3
   },
   "file_extension": ".py",
   "mimetype": "text/x-python",
   "name": "python",
   "nbconvert_exporter": "python",
   "pygments_lexer": "ipython3",
   "version": "3.7.8"
  }
 },
 "nbformat": 4,
 "nbformat_minor": 1
}
