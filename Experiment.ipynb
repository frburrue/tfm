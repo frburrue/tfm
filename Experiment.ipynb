{
 "cells": [
  {
   "cell_type": "code",
   "execution_count": 150,
   "metadata": {},
   "outputs": [],
   "source": [
    "from collections import Counter\n",
    "from datetime import datetime, timedelta\n",
    "import matplotlib.pyplot as plt\n",
    "import pandas as pd\n",
    "import math\n",
    "import numpy as np"
   ]
  },
  {
   "cell_type": "code",
   "execution_count": 74,
   "metadata": {},
   "outputs": [],
   "source": [
    "df = pd.read_csv('./utils/experiment.csv', sep=';')"
   ]
  },
  {
   "cell_type": "code",
   "execution_count": 75,
   "metadata": {},
   "outputs": [
    {
     "data": {
      "text/plain": [
       "Index(['sample', 'start', 'latency'], dtype='object')"
      ]
     },
     "execution_count": 75,
     "metadata": {},
     "output_type": "execute_result"
    }
   ],
   "source": [
    "df.columns"
   ]
  },
  {
   "cell_type": "code",
   "execution_count": 76,
   "metadata": {},
   "outputs": [],
   "source": [
    "df['start'] = df['start'].apply(lambda x: x.split('.')[0])"
   ]
  },
  {
   "cell_type": "code",
   "execution_count": 78,
   "metadata": {},
   "outputs": [],
   "source": [
    "df['latency'] = df['latency'].apply(lambda x: math.floor(x/1000))"
   ]
  },
  {
   "cell_type": "code",
   "execution_count": 79,
   "metadata": {},
   "outputs": [
    {
     "data": {
      "text/html": [
       "<div>\n",
       "<style scoped>\n",
       "    .dataframe tbody tr th:only-of-type {\n",
       "        vertical-align: middle;\n",
       "    }\n",
       "\n",
       "    .dataframe tbody tr th {\n",
       "        vertical-align: top;\n",
       "    }\n",
       "\n",
       "    .dataframe thead th {\n",
       "        text-align: right;\n",
       "    }\n",
       "</style>\n",
       "<table border=\"1\" class=\"dataframe\">\n",
       "  <thead>\n",
       "    <tr style=\"text-align: right;\">\n",
       "      <th></th>\n",
       "      <th>sample</th>\n",
       "      <th>start</th>\n",
       "      <th>latency</th>\n",
       "    </tr>\n",
       "  </thead>\n",
       "  <tbody>\n",
       "    <tr>\n",
       "      <th>0</th>\n",
       "      <td>23</td>\n",
       "      <td>20:23:21</td>\n",
       "      <td>3</td>\n",
       "    </tr>\n",
       "    <tr>\n",
       "      <th>1</th>\n",
       "      <td>1</td>\n",
       "      <td>20:23:03</td>\n",
       "      <td>3</td>\n",
       "    </tr>\n",
       "    <tr>\n",
       "      <th>2</th>\n",
       "      <td>64</td>\n",
       "      <td>20:23:55</td>\n",
       "      <td>3</td>\n",
       "    </tr>\n",
       "    <tr>\n",
       "      <th>3</th>\n",
       "      <td>2</td>\n",
       "      <td>20:23:03</td>\n",
       "      <td>3</td>\n",
       "    </tr>\n",
       "    <tr>\n",
       "      <th>4</th>\n",
       "      <td>3</td>\n",
       "      <td>20:23:04</td>\n",
       "      <td>3</td>\n",
       "    </tr>\n",
       "    <tr>\n",
       "      <th>...</th>\n",
       "      <td>...</td>\n",
       "      <td>...</td>\n",
       "      <td>...</td>\n",
       "    </tr>\n",
       "    <tr>\n",
       "      <th>58</th>\n",
       "      <td>40</td>\n",
       "      <td>20:23:21</td>\n",
       "      <td>17</td>\n",
       "    </tr>\n",
       "    <tr>\n",
       "      <th>59</th>\n",
       "      <td>62</td>\n",
       "      <td>20:23:39</td>\n",
       "      <td>18</td>\n",
       "    </tr>\n",
       "    <tr>\n",
       "      <th>60</th>\n",
       "      <td>46</td>\n",
       "      <td>20:23:25</td>\n",
       "      <td>19</td>\n",
       "    </tr>\n",
       "    <tr>\n",
       "      <th>61</th>\n",
       "      <td>61</td>\n",
       "      <td>20:23:38</td>\n",
       "      <td>19</td>\n",
       "    </tr>\n",
       "    <tr>\n",
       "      <th>62</th>\n",
       "      <td>57</td>\n",
       "      <td>20:23:34</td>\n",
       "      <td>21</td>\n",
       "    </tr>\n",
       "  </tbody>\n",
       "</table>\n",
       "<p>63 rows × 3 columns</p>\n",
       "</div>"
      ],
      "text/plain": [
       "    sample     start  latency\n",
       "0       23  20:23:21        3\n",
       "1        1  20:23:03        3\n",
       "2       64  20:23:55        3\n",
       "3        2  20:23:03        3\n",
       "4        3  20:23:04        3\n",
       "..     ...       ...      ...\n",
       "58      40  20:23:21       17\n",
       "59      62  20:23:39       18\n",
       "60      46  20:23:25       19\n",
       "61      61  20:23:38       19\n",
       "62      57  20:23:34       21\n",
       "\n",
       "[63 rows x 3 columns]"
      ]
     },
     "execution_count": 79,
     "metadata": {},
     "output_type": "execute_result"
    }
   ],
   "source": [
    "df"
   ]
  },
  {
   "cell_type": "code",
   "execution_count": 204,
   "metadata": {},
   "outputs": [],
   "source": [
    "data = {'count' : Counter(), 'avg': Counter()}\n",
    "for item in pd.date_range(\"20:23:03\", \"20:23:55\", freq=\"1s\"):\n",
    "    data['count'][item.strftime('%H:%M:%S')] = 0\n",
    "    data['avg'][item.strftime('%H:%M:%S')] = 0"
   ]
  },
  {
   "cell_type": "code",
   "execution_count": 205,
   "metadata": {},
   "outputs": [],
   "source": [
    "for _, item in df.iterrows():\n",
    "    d = datetime.strptime(item.start, '%H:%M:%S')\n",
    "    dd = d\n",
    "    data['count'][dd.strftime('%H:%M:%S')] += 1\n",
    "    for iitem in range(item.latency):\n",
    "        dd = dd + timedelta(seconds=1)\n",
    "        data['count'][dd.strftime('%H:%M:%S')] += 1\n",
    "    data['avg'][(d).strftime('%H:%M:%S')] += item.latency"
   ]
  },
  {
   "cell_type": "code",
   "execution_count": 206,
   "metadata": {},
   "outputs": [],
   "source": [
    "for item in data['count'].keys():\n",
    "    if data['count'][item] != 0:\n",
    "        data['avg'][item] /= data['count'][item]"
   ]
  },
  {
   "cell_type": "code",
   "execution_count": 207,
   "metadata": {},
   "outputs": [],
   "source": [
    "data_parsed = {'count': data['count'].values(), 'avg': data['avg'].values()}"
   ]
  },
  {
   "cell_type": "code",
   "execution_count": 208,
   "metadata": {},
   "outputs": [],
   "source": [
    "data_parsed = {'avg': {k:v for k, v in data['avg'].items() if float(v) > 0.0}}"
   ]
  },
  {
   "cell_type": "code",
   "execution_count": 209,
   "metadata": {},
   "outputs": [],
   "source": [
    "data_parsed['count'] = data['count']"
   ]
  },
  {
   "cell_type": "code",
   "execution_count": 210,
   "metadata": {},
   "outputs": [
    {
     "data": {
      "image/png": "[encoded data removed]",
      "text/plain": [
       "<Figure size 1332x756 with 1 Axes>"
      ]
     },
     "metadata": {
      "needs_background": "light"
     },
     "output_type": "display_data"
    }
   ],
   "source": [
    "width = .35 # width of a bar\n",
    "\n",
    "m1_t = pd.DataFrame(data_parsed)\n",
    "\n",
    "m1_t[['count', 'avg']].plot(kind='bar', width = width)\n",
    "\n",
    "ax = plt.gca()\n",
    "plt.xlim([-width, len(m1_t['count'])-width])\n",
    "ax.set_yticks(np.arange(0, max(m1_t['count'])+1, 1))\n",
    "\n",
    "fig = plt.gcf()\n",
    "fig.set_size_inches(18.5, 10.5)"
   ]
  },
  {
   "cell_type": "code",
   "execution_count": 198,
   "metadata": {},
   "outputs": [
    {
     "data": {
      "text/plain": [
       "{'avg': {'20:23:06': 0.375,\n",
       "  '20:23:07': 0.35294117647058826,\n",
       "  '20:23:10': 1.25,\n",
       "  '20:23:16': 2.3333333333333335,\n",
       "  '20:23:17': 1.5625,\n",
       "  '20:23:18': 0.8125,\n",
       "  '20:23:20': 0.8666666666666667,\n",
       "  '20:23:21': 3.35,\n",
       "  '20:23:24': 1.6666666666666667,\n",
       "  '20:23:25': 1.0625,\n",
       "  '20:23:27': 1.8823529411764706,\n",
       "  '20:23:28': 1.2352941176470589,\n",
       "  '20:23:33': 0.6,\n",
       "  '20:23:34': 2.3333333333333335,\n",
       "  '20:23:37': 1.9333333333333333,\n",
       "  '20:23:38': 3.411764705882353,\n",
       "  '20:23:40': 2.2222222222222223,\n",
       "  '20:23:41': 1.3125,\n",
       "  '20:23:44': 1.8666666666666667,\n",
       "  '20:23:45': 0.8461538461538461,\n",
       "  '20:23:47': 1.6666666666666667,\n",
       "  '20:23:48': 1.0,\n",
       "  '20:23:49': 1.1,\n",
       "  '20:23:52': 1.3,\n",
       "  '20:23:53': 0.4444444444444444,\n",
       "  '20:23:55': 5.444444444444445,\n",
       "  '20:23:58': 8.0,\n",
       "  '20:23:56': 0.6666666666666666,\n",
       "  '20:23:57': 10.6},\n",
       " 'count': Counter({'20:23:03': 2,\n",
       "          '20:23:04': 10,\n",
       "          '20:23:05': 16,\n",
       "          '20:23:06': 16,\n",
       "          '20:23:07': 17,\n",
       "          '20:23:08': 16,\n",
       "          '20:23:09': 16,\n",
       "          '20:23:10': 16,\n",
       "          '20:23:11': 15,\n",
       "          '20:23:12': 15,\n",
       "          '20:23:13': 15,\n",
       "          '20:23:14': 15,\n",
       "          '20:23:15': 15,\n",
       "          '20:23:16': 15,\n",
       "          '20:23:17': 16,\n",
       "          '20:23:18': 16,\n",
       "          '20:23:19': 15,\n",
       "          '20:23:20': 15,\n",
       "          '20:23:21': 20,\n",
       "          '20:23:22': 15,\n",
       "          '20:23:23': 15,\n",
       "          '20:23:24': 18,\n",
       "          '20:23:25': 16,\n",
       "          '20:23:26': 15,\n",
       "          '20:23:27': 17,\n",
       "          '20:23:28': 17,\n",
       "          '20:23:29': 15,\n",
       "          '20:23:30': 15,\n",
       "          '20:23:31': 15,\n",
       "          '20:23:32': 15,\n",
       "          '20:23:33': 15,\n",
       "          '20:23:34': 18,\n",
       "          '20:23:35': 15,\n",
       "          '20:23:36': 15,\n",
       "          '20:23:37': 15,\n",
       "          '20:23:38': 17,\n",
       "          '20:23:39': 16,\n",
       "          '20:23:40': 18,\n",
       "          '20:23:41': 16,\n",
       "          '20:23:42': 14,\n",
       "          '20:23:43': 14,\n",
       "          '20:23:44': 15,\n",
       "          '20:23:45': 13,\n",
       "          '20:23:46': 12,\n",
       "          '20:23:47': 12,\n",
       "          '20:23:48': 10,\n",
       "          '20:23:49': 10,\n",
       "          '20:23:50': 9,\n",
       "          '20:23:51': 9,\n",
       "          '20:23:52': 10,\n",
       "          '20:23:53': 9,\n",
       "          '20:23:54': 8,\n",
       "          '20:23:55': 9,\n",
       "          '20:23:56': 6,\n",
       "          '20:23:57': 5,\n",
       "          '20:23:58': 2})}"
      ]
     },
     "execution_count": 198,
     "metadata": {},
     "output_type": "execute_result"
    }
   ],
   "source": [
    "data_parsed"
   ]
  },
  {
   "cell_type": "code",
   "execution_count": null,
   "metadata": {},
   "outputs": [],
   "source": []
  }
 ],
 "metadata": {
  "kernelspec": {
   "display_name": "Python 3",
   "language": "python",
   "name": "python3"
  },
  "language_info": {
   "codemirror_mode": {
    "name": "ipython",
    "version": 3
   },
   "file_extension": ".py",
   "mimetype": "text/x-python",
   "name": "python",
   "nbconvert_exporter": "python",
   "pygments_lexer": "ipython3",
   "version": "3.7.8"
  }
 },
 "nbformat": 4,
 "nbformat_minor": 4
}
